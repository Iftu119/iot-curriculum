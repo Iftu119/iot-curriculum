{
  "cells": [
    {
      "cell_type": "markdown",
      "metadata": {
        "nteract": {
          "transient": {
            "deleting": false
          }
        }
      },
      "source": "# Sound spike visualization\n\nThis Jupyter Notebook will take the output data from the anomaly detection of sound data, and plot it on a couple of graphs - one showing the sound vs time, the other showing spikes vs time.\n\nCopyright (c) Microsoft Corporation.\nLicensed under the MIT license."
    },
    {
      "cell_type": "markdown",
      "metadata": {
        "nteract": {
          "transient": {
            "deleting": false
          }
        }
      },
      "source": "This first code block runs an SQL query against the **Anomalies** container in the **EnvironmentMonitor** database. It selects the last 1,000 records for the `pi-environment-monitor` device ordered by time.\n\nSeeing as this notebook is running inside of Cosmos DB there is no need to log in or connect to the account - this code is run fully connected to this account."
    },
    {
      "cell_type": "code",
      "execution_count": null,
      "metadata": {
        "collapsed": true,
        "execution": {
          "iopub.execute_input": "2020-08-22T22:32:27.031Z",
          "iopub.status.busy": "2020-08-22T22:32:26.912Z",
          "iopub.status.idle": "2020-08-22T22:32:27.066Z",
          "shell.execute_reply": "2020-08-22T22:32:27.068Z"
        },
        "jupyter": {
          "outputs_hidden": false,
          "source_hidden": false
        },
        "nteract": {
          "transient": {
            "deleting": false
          }
        },
        "outputExpanded": false,
        "trusted": true
      },
      "outputs": [],
      "source": "%%sql --database EnvironmentMonitor --container Anomalies --output df_cosmos\nSELECT top 1000 c.time, c.sound_level, c.is_spike_anomaly\nFROM c \nWHERE c.device_id = 'pi-environment-monitor'\nORDER BY c.time"
    },
    {
      "cell_type": "markdown",
      "metadata": {
        "nteract": {
          "transient": {
            "deleting": false
          }
        }
      },
      "source": "Now we have records, lets display them as a raw data dump to show that we are getting data."
    },
    {
      "cell_type": "code",
      "execution_count": null,
      "metadata": {
        "collapsed": true,
        "execution": {
          "iopub.execute_input": "2020-08-22T22:32:27.141Z",
          "iopub.status.busy": "2020-08-22T22:32:27.117Z",
          "iopub.status.idle": "2020-08-22T22:32:27.161Z",
          "shell.execute_reply": "2020-08-22T22:32:27.167Z"
        },
        "jupyter": {
          "outputs_hidden": false,
          "source_hidden": false
        },
        "nteract": {
          "transient": {
            "deleting": false
          }
        },
        "outputExpanded": false,
        "trusted": true
      },
      "outputs": [],
      "source": "df_cosmos"
    },
    {
      "cell_type": "markdown",
      "metadata": {
        "nteract": {
          "transient": {
            "deleting": false
          }
        }
      },
      "source": "The data can now be plotted on two graphs - one of sound level vs time, the other spikes vs time. You should be able to see a correlation between obvious spikes in the sound levels and the detected spikes."
    },
    {
      "cell_type": "code",
      "execution_count": null,
      "metadata": {
        "collapsed": true,
        "execution": {
          "iopub.execute_input": "2020-08-22T22:37:24.324Z",
          "iopub.status.busy": "2020-08-22T22:37:24.260Z",
          "iopub.status.idle": "2020-08-22T22:37:24.613Z",
          "shell.execute_reply": "2020-08-22T22:37:24.710Z"
        },
        "jupyter": {
          "outputs_hidden": false,
          "source_hidden": false
        },
        "nteract": {
          "transient": {
            "deleting": false
          }
        },
        "outputExpanded": false,
        "trusted": true
      },
      "outputs": [],
      "source": "# Configure the graphs to be 20\" by 8\"\nimport matplotlib.pyplot as plt\nplt.rcParams['figure.figsize'] = [20, 8]\n\n# Plot sound vs time\ndf_cosmos.plot(y='sound_level', x='time')\n\n# Plot spikes vs time\ndf_cosmos.plot(y='is_spike_anomaly', x='time')"
    }
  ],
  "metadata": {
    "kernelspec": {
      "displayName": "Python 3",
      "language": "python",
      "name": "python3"
    },
    "language_info": {
      "file_extension": "ipynb",
      "mimetype": "application/json",
      "name": "python",
      "version": "3.7"
    },
    "nteract": {
      "version": "dataExplorer 1.0"
    }
  },
  "nbformat": 4,
  "nbformat_minor": 4
}