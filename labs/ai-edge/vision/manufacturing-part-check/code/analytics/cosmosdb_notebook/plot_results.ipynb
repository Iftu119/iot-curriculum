{
  "cells": [
    {
      "cell_type": "code",
      "execution_count": null,
      "metadata": {
        "collapsed": true,
        "execution": {
          "iopub.execute_input": "2020-09-16T21:28:29.113Z",
          "iopub.status.busy": "2020-09-16T21:28:29.012Z",
          "iopub.status.idle": "2020-09-16T21:28:29.125Z",
          "shell.execute_reply": "2020-09-16T21:28:29.135Z"
        },
        "jupyter": {
          "outputs_hidden": false,
          "source_hidden": false
        },
        "nteract": {
          "transient": {
            "deleting": false
          }
        },
        "outputExpanded": false,
        "trusted": false
      },
      "outputs": [],
      "source": [
        "%%sql --database QA --container Results --output df_pass\n",
        "SELECT 'pass' as result, \n",
        "       count(1) as count\n",
        "FROM c \n",
        "WHERE c.result = 'pass'\n",
        "ORDER BY c.timestamp"
      ]
    },
    {
      "cell_type": "code",
      "execution_count": null,
      "metadata": {
        "collapsed": true,
        "execution": {
          "iopub.execute_input": "2020-09-16T21:28:29.414Z",
          "iopub.status.busy": "2020-09-16T21:28:29.184Z",
          "iopub.status.idle": "2020-09-16T21:28:29.420Z",
          "shell.execute_reply": "2020-09-16T21:28:29.423Z"
        },
        "jupyter": {
          "outputs_hidden": false,
          "source_hidden": false
        },
        "nteract": {
          "transient": {
            "deleting": false
          }
        },
        "outputExpanded": false,
        "trusted": false
      },
      "outputs": [],
      "source": [
        "%%sql --database QA --container Results --output df_fail\n",
        "SELECT 'fail' as result, \n",
        "       count(1) as count\n",
        "FROM c \n",
        "WHERE c.result = 'fail'\n",
        "ORDER BY c.timestamp"
      ]
    },
    {
      "cell_type": "code",
      "execution_count": null,
      "metadata": {
        "collapsed": true,
        "execution": {
          "iopub.execute_input": "2020-09-16T21:28:29.433Z",
          "iopub.status.busy": "2020-09-16T21:28:29.430Z",
          "iopub.status.idle": "2020-09-16T21:28:29.453Z",
          "shell.execute_reply": "2020-09-16T21:28:29.462Z"
        },
        "jupyter": {
          "outputs_hidden": false,
          "source_hidden": false
        },
        "nteract": {
          "transient": {
            "deleting": false
          }
        },
        "outputExpanded": false,
        "trusted": false
      },
      "outputs": [],
      "source": [
        "df_all = pd.concat([df_pass, df_fail])\n",
        "df_all"
      ]
    },
    {
      "cell_type": "code",
      "execution_count": null,
      "metadata": {
        "collapsed": true,
        "execution": {
          "iopub.execute_input": "2020-09-16T21:28:29.476Z",
          "iopub.status.busy": "2020-09-16T21:28:29.469Z",
          "iopub.status.idle": "2020-09-16T21:28:29.676Z",
          "shell.execute_reply": "2020-09-16T21:28:29.681Z"
        },
        "jupyter": {
          "outputs_hidden": false,
          "source_hidden": false
        },
        "nteract": {
          "transient": {
            "deleting": false
          }
        },
        "outputExpanded": false,
        "trusted": false
      },
      "outputs": [],
      "source": [
        "# Configure the graphs to be 20\" by 8\"\n",
        "import matplotlib.pyplot as plt\n",
        "plt.rcParams['figure.figsize'] = [20, 8]\n",
        "\n",
        "# Plot sound vs time\n",
        "df_all.plot.pie(y='count',labels=df_all['result'], title='Assembly line QA results')"
      ]
    }
  ],
  "metadata": {
    "language_info": {
      "file_extension": "ipynb",
      "mimetype": "application/json",
      "name": "python",
      "version": "3.7"
    },
    "nteract": {
      "version": "dataExplorer 1.0"
    }
  },
  "nbformat": 4,
  "nbformat_minor": 4
}