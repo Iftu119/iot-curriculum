{
 "cells": [
  {
   "cell_type": "code",
   "execution_count": null,
   "metadata": {},
   "outputs": [],
   "source": [
    "!pip install sounddevice\n",
    "!pip install soundfile\n",
    "!pip install numpy\n",
    "!pip install requests\n",
    "!pip install scipy\n",
    "!pip install ipywidgets"
   ]
  },
  {
   "cell_type": "code",
   "execution_count": null,
   "metadata": {},
   "outputs": [],
   "source": [
    "import sounddevice as sd\n",
    "import soundfile as sf\n",
    "import numpy\n",
    "import tempfile\n",
    "import queue\n",
    "import requests\n",
    "import json\n",
    "from scipy.io.wavfile import write\n",
    "from ipywidgets import interact\n",
    "\n",
    "cog_serv_key = 'KEY-HERE'"
   ]
  },
  {
   "cell_type": "markdown",
   "metadata": {},
   "source": [
    "## Record speech sample"
   ]
  },
  {
   "cell_type": "code",
   "execution_count": null,
   "metadata": {},
   "outputs": [],
   "source": [
    "# The Speech to Text Cognitive Service API currently only supports a 16000hz samplerate\n",
    "sample_rate = 16000\n",
    "\n",
    "# Length of the audio sample in seconds\n",
    "sample_len = 10\n",
    "\n",
    "# Name of audio file to save sample\n",
    "filename = \"speech_to_text_rec.wav\"\n",
    "\n",
    "# Record the speech sample\n",
    "speech_sample = sd.rec(int(sample_len * sample_rate), samplerate=sample_rate, channels=2)\n",
    "\n",
    "print(\"Recording speech sample..\")\n",
    "sd.wait()\n",
    "\n",
    "# Save speech sample as a .wav file\n",
    "write(filename, sample_rate, speech_sample)\n",
    "\n",
    "print(\"Recording complete.\")"
   ]
  },
  {
   "cell_type": "markdown",
   "metadata": {},
   "source": [
    "## Select language of speech sample"
   ]
  },
  {
   "cell_type": "code",
   "execution_count": null,
   "metadata": {},
   "outputs": [],
   "source": [
    "def f(x):\n",
    "    return x\n",
    "\n",
    "interact(f, x=['en-US','en-UK'])"
   ]
  },
  {
   "cell_type": "markdown",
   "metadata": {},
   "source": [
    "## Send speech sample to Azure's Speech to Text REST API"
   ]
  },
  {
   "cell_type": "code",
   "execution_count": null,
   "metadata": {},
   "outputs": [],
   "source": [
    "url = 'https://eastus.stt.speech.microsoft.com/speech/recognition/conversation/cognitiveservices/v1?language=en-US'\n",
    "\n",
    "headers = {'Ocp-Apim-Subscription-Key': cog_serv_key, 'Content-Type': 'audio/wav; codecs=audio/pcm; samplerate=16000', 'Accept': 'application/json;text/xml'}\n",
    "\n",
    "# drop down language widget\n",
    "params = {'language': 'en-US'}\n",
    "\n",
    "response = requests.post(url, headers=headers, params=params, data=open(filename, 'rb'))"
   ]
  },
  {
   "cell_type": "markdown",
   "metadata": {},
   "source": [
    "## Display Speech to Text results"
   ]
  },
  {
   "cell_type": "code",
   "execution_count": null,
   "metadata": {},
   "outputs": [],
   "source": [
    "if \"DisplayText\" in response.text:\n",
    "    responsejson = json.loads(response.text)\n",
    "    print('Results from Speech to Text API:\\n')\n",
    "    print(responsejson['DisplayText'])\n",
    "else:\n",
    "    print(\"No speech detected\")"
   ]
  },
  {
   "cell_type": "code",
   "execution_count": null,
   "metadata": {},
   "outputs": [],
   "source": []
  }
 ],
 "metadata": {
  "kernelspec": {
   "display_name": "Python 3",
   "language": "python",
   "name": "python3"
  },
  "language_info": {
   "codemirror_mode": {
    "name": "ipython",
    "version": 3
   },
   "file_extension": ".py",
   "mimetype": "text/x-python",
   "name": "python",
   "nbconvert_exporter": "python",
   "pygments_lexer": "ipython3",
   "version": "3.8.3"
  }
 },
 "nbformat": 4,
 "nbformat_minor": 4
}